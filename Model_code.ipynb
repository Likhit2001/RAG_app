{
 "cells": [
  {
   "cell_type": "code",
   "execution_count": 4,
   "metadata": {},
   "outputs": [
    {
     "name": "stderr",
     "output_type": "stream",
     "text": [
      "/Users/likhit/Documents/Coding/NLP/NLP_basics/nlp/lib/python3.10/site-packages/tqdm/auto.py:21: TqdmWarning: IProgress not found. Please update jupyter and ipywidgets. See https://ipywidgets.readthedocs.io/en/stable/user_install.html\n",
      "  from .autonotebook import tqdm as notebook_tqdm\n"
     ]
    },
    {
     "name": "stdout",
     "output_type": "stream",
     "text": [
      "\n",
      "🧱 Transformer Layers:\n",
      "Layer 0\n",
      "Layer 1\n",
      "Layer 2\n",
      "Layer 3\n",
      "Layer 4\n",
      "Layer 5\n",
      "✅ Using device: mps\n"
     ]
    },
    {
     "name": "stderr",
     "output_type": "stream",
     "text": [
      " 33%|███▎      | 500/1500 [12:33<28:19,  1.70s/it]                   "
     ]
    },
    {
     "name": "stdout",
     "output_type": "stream",
     "text": [
      "{'loss': 0.1641, 'grad_norm': 1.2210733890533447, 'learning_rate': 1.3378378378378381e-05, 'epoch': 3.33}\n"
     ]
    },
    {
     "name": "stderr",
     "output_type": "stream",
     "text": [
      " 67%|██████▋   | 1000/1500 [23:53<10:44,  1.29s/it]"
     ]
    },
    {
     "name": "stdout",
     "output_type": "stream",
     "text": [
      "{'loss': 0.0909, 'grad_norm': 1.3204602003097534, 'learning_rate': 6.621621621621622e-06, 'epoch': 6.67}\n"
     ]
    },
    {
     "name": "stderr",
     "output_type": "stream",
     "text": [
      "100%|██████████| 1500/1500 [34:58<00:00,  1.40s/it]\n"
     ]
    },
    {
     "name": "stdout",
     "output_type": "stream",
     "text": [
      "{'loss': 0.0714, 'grad_norm': 1.5489064455032349, 'learning_rate': 0.0, 'epoch': 10.0}\n",
      "{'train_runtime': 2098.7825, 'train_samples_per_second': 45.731, 'train_steps_per_second': 0.715, 'train_loss': 0.1088121821085612, 'epoch': 10.0}\n",
      "\n",
      "✅ Training complete. Model saved to 'fineeeeminilm_proj512_only_dense'\n"
     ]
    }
   ],
   "source": [
    "from datasets import load_dataset\n",
    "from sentence_transformers import SentenceTransformer, InputExample, losses, models\n",
    "from torch.utils.data import DataLoader\n",
    "import torch"
   ]
  },
  {
   "cell_type": "code",
   "execution_count": null,
   "metadata": {},
   "outputs": [],
   "source": [
    "dataset = load_dataset(\"neural-bridge/rag-dataset-12000\", split=\"train\")\n",
    "pairs = [(q, c) for q, c in zip(dataset[\"question\"], dataset[\"context\"]) if isinstance(q, str) and q.strip() and isinstance(c, str) and c.strip()]\n",
    "train_samples = [InputExample(texts=[q, c]) for q, c in pairs]"
   ]
  },
  {
   "cell_type": "code",
   "execution_count": null,
   "metadata": {},
   "outputs": [],
   "source": [
    "word_embedding_model = models.Transformer(\"sentence-transformers/all-MiniLM-L6-v2\")\n",
    "hf_model = word_embedding_model.auto_model\n",
    "\n",
    "\n",
    "print(\"Transformer Layers:\")\n",
    "layer_names = set()\n",
    "for name, _ in hf_model.named_parameters():\n",
    "    if \"encoder.layer.\" in name:\n",
    "        layer_num = name.split(\"encoder.layer.\")[1].split(\".\")[0]\n",
    "        layer_names.add(int(layer_num))\n",
    "\n",
    "for param in hf_model.parameters():\n",
    "    param.requires_grad = False\n",
    "\n",
    "# Unfreezing last 2 layers\n",
    "last_two = sorted(layer_names)[-2:]\n",
    "for name, param in hf_model.named_parameters():\n",
    "    if any(f\"layer.{i}\" in name for i in last_two):\n",
    "        param.requires_grad = True\n"
   ]
  },
  {
   "cell_type": "code",
   "execution_count": null,
   "metadata": {},
   "outputs": [],
   "source": [
    "pooling_model = models.Pooling(word_embedding_model.get_word_embedding_dimension())\n",
    "model = SentenceTransformer(modules=[word_embedding_model, pooling_model])\n",
    "\n",
    "device = torch.device(\"mps\" if torch.backends.mps.is_available() else \"cpu\")\n",
    "print(f\"✅ Using device: {device}\")\n",
    "\n",
    "train_dataloader = DataLoader(train_samples, shuffle=True, batch_size=64)\n",
    "train_loss = losses.MultipleNegativesRankingLoss(model).to(device)\n",
    "model.to(device)"
   ]
  },
  {
   "cell_type": "code",
   "execution_count": null,
   "metadata": {},
   "outputs": [],
   "source": [
    "model.fit(\n",
    "    train_objectives=[(train_dataloader, train_loss)],\n",
    "    epochs=10,\n",
    "    warmup_steps=10,\n",
    "    show_progress_bar=True\n",
    ")\n",
    "\n",
    "model.save(\"partial_layer_frezzing\")\n",
    "print(\"Training complete. Model saved\")\n"
   ]
  }
 ],
 "metadata": {
  "kernelspec": {
   "display_name": "Python 3",
   "language": "python",
   "name": "python3"
  },
  "language_info": {
   "codemirror_mode": {
    "name": "ipython",
    "version": 3
   },
   "file_extension": ".py",
   "mimetype": "text/x-python",
   "name": "python",
   "nbconvert_exporter": "python",
   "pygments_lexer": "ipython3",
   "version": "3.10.13"
  },
  "orig_nbformat": 4
 },
 "nbformat": 4,
 "nbformat_minor": 2
}
