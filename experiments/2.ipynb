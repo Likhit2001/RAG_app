{
 "cells": [
  {
   "cell_type": "code",
   "execution_count": 2,
   "metadata": {},
   "outputs": [
    {
     "name": "stdout",
     "output_type": "stream",
     "text": [
      "✅ Using device: mps\n",
      "trainable params: 73,728 || all params: 22,786,944 || trainable%: 0.3236\n"
     ]
    },
    {
     "name": "stderr",
     "output_type": "stream",
     "text": [
      "/var/folders/st/sgk4ydvx7vjfs18cwxz8vm7r0000gn/T/ipykernel_72249/2274326885.py:90: FutureWarning: `tokenizer` is deprecated and will be removed in version 5.0.0 for `Trainer.__init__`. Use `processing_class` instead.\n",
      "  trainer = Trainer(\n",
      "                                        \n",
      "  0%|          | 0/1800 [1:11:16<?, ?it/s]       "
     ]
    },
    {
     "name": "stdout",
     "output_type": "stream",
     "text": [
      "{'loss': 0.6503, 'grad_norm': 0.6206285357475281, 'learning_rate': 4.9444444444444446e-05, 'epoch': 0.03}\n"
     ]
    },
    {
     "name": "stderr",
     "output_type": "stream",
     "text": [
      "                                          \n",
      "  0%|          | 0/1800 [1:11:19<?, ?it/s]       "
     ]
    },
    {
     "name": "stdout",
     "output_type": "stream",
     "text": [
      "{'loss': 0.5296, 'grad_norm': 1.4012823104858398, 'learning_rate': 4.888888888888889e-05, 'epoch': 0.07}\n"
     ]
    },
    {
     "name": "stderr",
     "output_type": "stream",
     "text": [
      "                                          \n",
      "  0%|          | 0/1800 [1:11:22<?, ?it/s]       "
     ]
    },
    {
     "name": "stdout",
     "output_type": "stream",
     "text": [
      "{'loss': 0.5214, 'grad_norm': 2.3042545318603516, 'learning_rate': 4.8333333333333334e-05, 'epoch': 0.1}\n"
     ]
    },
    {
     "name": "stderr",
     "output_type": "stream",
     "text": [
      "                                          \n",
      "  0%|          | 0/1800 [1:11:25<?, ?it/s]       "
     ]
    },
    {
     "name": "stdout",
     "output_type": "stream",
     "text": [
      "{'loss': 0.4119, 'grad_norm': 1.9128663539886475, 'learning_rate': 4.7777777777777784e-05, 'epoch': 0.13}\n"
     ]
    },
    {
     "name": "stderr",
     "output_type": "stream",
     "text": [
      "                                          \n",
      "  0%|          | 0/1800 [1:11:28<?, ?it/s]        "
     ]
    },
    {
     "name": "stdout",
     "output_type": "stream",
     "text": [
      "{'loss': 0.5015, 'grad_norm': 2.271043300628662, 'learning_rate': 4.722222222222222e-05, 'epoch': 0.17}\n"
     ]
    },
    {
     "name": "stderr",
     "output_type": "stream",
     "text": [
      "                                          \n",
      "  0%|          | 0/1800 [1:11:31<?, ?it/s]        "
     ]
    },
    {
     "name": "stdout",
     "output_type": "stream",
     "text": [
      "{'loss': 0.4736, 'grad_norm': 2.3317525386810303, 'learning_rate': 4.666666666666667e-05, 'epoch': 0.2}\n"
     ]
    },
    {
     "name": "stderr",
     "output_type": "stream",
     "text": [
      "                                          \n",
      "  0%|          | 0/1800 [1:11:34<?, ?it/s]        "
     ]
    },
    {
     "name": "stdout",
     "output_type": "stream",
     "text": [
      "{'loss': 0.3244, 'grad_norm': 1.8850921392440796, 'learning_rate': 4.6111111111111115e-05, 'epoch': 0.23}\n"
     ]
    },
    {
     "name": "stderr",
     "output_type": "stream",
     "text": [
      "                                          \n",
      "  0%|          | 0/1800 [1:11:37<?, ?it/s]        "
     ]
    },
    {
     "name": "stdout",
     "output_type": "stream",
     "text": [
      "{'loss': 0.402, 'grad_norm': 2.002861499786377, 'learning_rate': 4.555555555555556e-05, 'epoch': 0.27}\n"
     ]
    },
    {
     "name": "stderr",
     "output_type": "stream",
     "text": [
      "                                          \n",
      "  0%|          | 0/1800 [1:11:40<?, ?it/s]        "
     ]
    },
    {
     "name": "stdout",
     "output_type": "stream",
     "text": [
      "{'loss': 0.4434, 'grad_norm': 0.9163603782653809, 'learning_rate': 4.5e-05, 'epoch': 0.3}\n"
     ]
    },
    {
     "name": "stderr",
     "output_type": "stream",
     "text": [
      "                                          \n",
      "  0%|          | 0/1800 [1:11:43<?, ?it/s]        "
     ]
    },
    {
     "name": "stdout",
     "output_type": "stream",
     "text": [
      "{'loss': 0.4753, 'grad_norm': 4.4454779624938965, 'learning_rate': 4.4444444444444447e-05, 'epoch': 0.33}\n"
     ]
    },
    {
     "name": "stderr",
     "output_type": "stream",
     "text": [
      "                                          \n",
      "  0%|          | 0/1800 [1:11:46<?, ?it/s]        "
     ]
    },
    {
     "name": "stdout",
     "output_type": "stream",
     "text": [
      "{'loss': 0.5046, 'grad_norm': 1.4900083541870117, 'learning_rate': 4.388888888888889e-05, 'epoch': 0.37}\n"
     ]
    },
    {
     "name": "stderr",
     "output_type": "stream",
     "text": [
      "                                          \n",
      "  0%|          | 0/1800 [1:11:49<?, ?it/s]        "
     ]
    },
    {
     "name": "stdout",
     "output_type": "stream",
     "text": [
      "{'loss': 0.3757, 'grad_norm': 1.547128438949585, 'learning_rate': 4.3333333333333334e-05, 'epoch': 0.4}\n"
     ]
    },
    {
     "name": "stderr",
     "output_type": "stream",
     "text": [
      "                                          \n",
      "  0%|          | 0/1800 [1:11:52<?, ?it/s]        "
     ]
    },
    {
     "name": "stdout",
     "output_type": "stream",
     "text": [
      "{'loss': 0.4239, 'grad_norm': 0.9946482181549072, 'learning_rate': 4.277777777777778e-05, 'epoch': 0.43}\n"
     ]
    },
    {
     "name": "stderr",
     "output_type": "stream",
     "text": [
      "                                          \n",
      "  0%|          | 0/1800 [1:11:55<?, ?it/s]        "
     ]
    },
    {
     "name": "stdout",
     "output_type": "stream",
     "text": [
      "{'loss': 0.3804, 'grad_norm': 1.8791286945343018, 'learning_rate': 4.222222222222222e-05, 'epoch': 0.47}\n"
     ]
    },
    {
     "name": "stderr",
     "output_type": "stream",
     "text": [
      "                                          \n",
      "  0%|          | 0/1800 [1:11:58<?, ?it/s]        "
     ]
    },
    {
     "name": "stdout",
     "output_type": "stream",
     "text": [
      "{'loss': 0.451, 'grad_norm': 2.1017909049987793, 'learning_rate': 4.166666666666667e-05, 'epoch': 0.5}\n"
     ]
    },
    {
     "name": "stderr",
     "output_type": "stream",
     "text": [
      "                                          \n",
      "  0%|          | 0/1800 [1:12:01<?, ?it/s]        "
     ]
    },
    {
     "name": "stdout",
     "output_type": "stream",
     "text": [
      "{'loss': 0.3341, 'grad_norm': 2.738463878631592, 'learning_rate': 4.111111111111111e-05, 'epoch': 0.53}\n"
     ]
    },
    {
     "name": "stderr",
     "output_type": "stream",
     "text": [
      "                                          \n",
      "  0%|          | 0/1800 [1:12:04<?, ?it/s]        "
     ]
    },
    {
     "name": "stdout",
     "output_type": "stream",
     "text": [
      "{'loss': 0.2426, 'grad_norm': 1.6324875354766846, 'learning_rate': 4.055555555555556e-05, 'epoch': 0.57}\n"
     ]
    },
    {
     "name": "stderr",
     "output_type": "stream",
     "text": [
      "                                          \n",
      "  0%|          | 0/1800 [1:12:08<?, ?it/s]        "
     ]
    },
    {
     "name": "stdout",
     "output_type": "stream",
     "text": [
      "{'loss': 0.3886, 'grad_norm': 2.186211585998535, 'learning_rate': 4e-05, 'epoch': 0.6}\n"
     ]
    },
    {
     "name": "stderr",
     "output_type": "stream",
     "text": [
      "                                          \n",
      "  0%|          | 0/1800 [1:12:11<?, ?it/s]        "
     ]
    },
    {
     "name": "stdout",
     "output_type": "stream",
     "text": [
      "{'loss': 0.3375, 'grad_norm': 1.8148396015167236, 'learning_rate': 3.944444444444445e-05, 'epoch': 0.63}\n"
     ]
    },
    {
     "name": "stderr",
     "output_type": "stream",
     "text": [
      "                                          \n",
      "  0%|          | 0/1800 [1:12:14<?, ?it/s]        "
     ]
    },
    {
     "name": "stdout",
     "output_type": "stream",
     "text": [
      "{'loss': 0.2993, 'grad_norm': 0.08569832146167755, 'learning_rate': 3.888888888888889e-05, 'epoch': 0.67}\n"
     ]
    },
    {
     "name": "stderr",
     "output_type": "stream",
     "text": [
      "                                          \n",
      "  0%|          | 0/1800 [1:12:17<?, ?it/s]        "
     ]
    },
    {
     "name": "stdout",
     "output_type": "stream",
     "text": [
      "{'loss': 0.2895, 'grad_norm': 0.7194267511367798, 'learning_rate': 3.8333333333333334e-05, 'epoch': 0.7}\n"
     ]
    },
    {
     "name": "stderr",
     "output_type": "stream",
     "text": [
      "                                          \n",
      "  0%|          | 0/1800 [1:12:20<?, ?it/s]        "
     ]
    },
    {
     "name": "stdout",
     "output_type": "stream",
     "text": [
      "{'loss': 0.3212, 'grad_norm': 2.9591662883758545, 'learning_rate': 3.777777777777778e-05, 'epoch': 0.73}\n"
     ]
    },
    {
     "name": "stderr",
     "output_type": "stream",
     "text": [
      "                                          \n",
      "  0%|          | 0/1800 [1:12:23<?, ?it/s]        "
     ]
    },
    {
     "name": "stdout",
     "output_type": "stream",
     "text": [
      "{'loss': 0.2505, 'grad_norm': 1.7600635290145874, 'learning_rate': 3.722222222222222e-05, 'epoch': 0.77}\n"
     ]
    },
    {
     "name": "stderr",
     "output_type": "stream",
     "text": [
      "                                          \n",
      "  0%|          | 0/1800 [1:12:26<?, ?it/s]        "
     ]
    },
    {
     "name": "stdout",
     "output_type": "stream",
     "text": [
      "{'loss': 0.2765, 'grad_norm': 2.7550036907196045, 'learning_rate': 3.6666666666666666e-05, 'epoch': 0.8}\n"
     ]
    },
    {
     "name": "stderr",
     "output_type": "stream",
     "text": [
      "                                          \n",
      "  0%|          | 0/1800 [1:12:29<?, ?it/s]        "
     ]
    },
    {
     "name": "stdout",
     "output_type": "stream",
     "text": [
      "{'loss': 0.3143, 'grad_norm': 1.4870235919952393, 'learning_rate': 3.611111111111111e-05, 'epoch': 0.83}\n"
     ]
    },
    {
     "name": "stderr",
     "output_type": "stream",
     "text": [
      "                                          \n",
      "  0%|          | 0/1800 [1:12:32<?, ?it/s]        "
     ]
    },
    {
     "name": "stdout",
     "output_type": "stream",
     "text": [
      "{'loss': 0.288, 'grad_norm': 1.1306017637252808, 'learning_rate': 3.555555555555556e-05, 'epoch': 0.87}\n"
     ]
    },
    {
     "name": "stderr",
     "output_type": "stream",
     "text": [
      "                                          \n",
      "  0%|          | 0/1800 [1:12:36<?, ?it/s]        "
     ]
    },
    {
     "name": "stdout",
     "output_type": "stream",
     "text": [
      "{'loss': 0.3498, 'grad_norm': 1.3912643194198608, 'learning_rate': 3.5e-05, 'epoch': 0.9}\n"
     ]
    },
    {
     "name": "stderr",
     "output_type": "stream",
     "text": [
      "                                          \n",
      "  0%|          | 0/1800 [1:12:39<?, ?it/s]        "
     ]
    },
    {
     "name": "stdout",
     "output_type": "stream",
     "text": [
      "{'loss': 0.3596, 'grad_norm': 2.2256126403808594, 'learning_rate': 3.444444444444445e-05, 'epoch': 0.93}\n"
     ]
    },
    {
     "name": "stderr",
     "output_type": "stream",
     "text": [
      "                                          \n",
      "  0%|          | 0/1800 [1:12:42<?, ?it/s]        "
     ]
    },
    {
     "name": "stdout",
     "output_type": "stream",
     "text": [
      "{'loss': 0.3116, 'grad_norm': 2.2348928451538086, 'learning_rate': 3.388888888888889e-05, 'epoch': 0.97}\n"
     ]
    },
    {
     "name": "stderr",
     "output_type": "stream",
     "text": [
      "                                          \n",
      "  0%|          | 0/1800 [1:12:46<?, ?it/s]        "
     ]
    },
    {
     "name": "stdout",
     "output_type": "stream",
     "text": [
      "{'loss': 0.2313, 'grad_norm': 1.983937382698059, 'learning_rate': 3.3333333333333335e-05, 'epoch': 1.0}\n"
     ]
    },
    {
     "name": "stderr",
     "output_type": "stream",
     "text": [
      "                                          \n",
      "  0%|          | 0/1800 [1:12:49<?, ?it/s]        "
     ]
    },
    {
     "name": "stdout",
     "output_type": "stream",
     "text": [
      "{'loss': 0.3357, 'grad_norm': 2.2209463119506836, 'learning_rate': 3.277777777777778e-05, 'epoch': 1.03}\n"
     ]
    },
    {
     "name": "stderr",
     "output_type": "stream",
     "text": [
      "                                          \n",
      "  0%|          | 0/1800 [1:12:52<?, ?it/s]        "
     ]
    },
    {
     "name": "stdout",
     "output_type": "stream",
     "text": [
      "{'loss': 0.3079, 'grad_norm': 1.8446836471557617, 'learning_rate': 3.222222222222223e-05, 'epoch': 1.07}\n"
     ]
    },
    {
     "name": "stderr",
     "output_type": "stream",
     "text": [
      "                                          \n",
      "  0%|          | 0/1800 [1:12:55<?, ?it/s]        "
     ]
    },
    {
     "name": "stdout",
     "output_type": "stream",
     "text": [
      "{'loss': 0.4033, 'grad_norm': 0.5268751978874207, 'learning_rate': 3.1666666666666666e-05, 'epoch': 1.1}\n"
     ]
    },
    {
     "name": "stderr",
     "output_type": "stream",
     "text": [
      "                                          \n",
      "  0%|          | 0/1800 [1:12:58<?, ?it/s]        "
     ]
    },
    {
     "name": "stdout",
     "output_type": "stream",
     "text": [
      "{'loss': 0.2346, 'grad_norm': 2.4806454181671143, 'learning_rate': 3.111111111111111e-05, 'epoch': 1.13}\n"
     ]
    },
    {
     "name": "stderr",
     "output_type": "stream",
     "text": [
      "                                          \n",
      "  0%|          | 0/1800 [1:13:01<?, ?it/s]        "
     ]
    },
    {
     "name": "stdout",
     "output_type": "stream",
     "text": [
      "{'loss': 0.2667, 'grad_norm': 0.9620399475097656, 'learning_rate': 3.055555555555556e-05, 'epoch': 1.17}\n"
     ]
    },
    {
     "name": "stderr",
     "output_type": "stream",
     "text": [
      "                                          \n",
      "  0%|          | 0/1800 [1:13:04<?, ?it/s]        "
     ]
    },
    {
     "name": "stdout",
     "output_type": "stream",
     "text": [
      "{'loss': 0.1781, 'grad_norm': 1.3716551065444946, 'learning_rate': 3e-05, 'epoch': 1.2}\n"
     ]
    },
    {
     "name": "stderr",
     "output_type": "stream",
     "text": [
      "                                          \n",
      "  0%|          | 0/1800 [1:13:07<?, ?it/s]        "
     ]
    },
    {
     "name": "stdout",
     "output_type": "stream",
     "text": [
      "{'loss': 0.2968, 'grad_norm': 1.5213932991027832, 'learning_rate': 2.9444444444444448e-05, 'epoch': 1.23}\n"
     ]
    },
    {
     "name": "stderr",
     "output_type": "stream",
     "text": [
      "                                          \n",
      "  0%|          | 0/1800 [1:13:11<?, ?it/s]        "
     ]
    },
    {
     "name": "stdout",
     "output_type": "stream",
     "text": [
      "{'loss': 0.3068, 'grad_norm': 0.497038871049881, 'learning_rate': 2.8888888888888888e-05, 'epoch': 1.27}\n"
     ]
    },
    {
     "name": "stderr",
     "output_type": "stream",
     "text": [
      "                                          \n",
      "  0%|          | 0/1800 [1:13:14<?, ?it/s]        "
     ]
    },
    {
     "name": "stdout",
     "output_type": "stream",
     "text": [
      "{'loss': 0.2218, 'grad_norm': 1.3060896396636963, 'learning_rate': 2.8333333333333335e-05, 'epoch': 1.3}\n"
     ]
    },
    {
     "name": "stderr",
     "output_type": "stream",
     "text": [
      "                                          \n",
      "  0%|          | 0/1800 [1:13:17<?, ?it/s]        "
     ]
    },
    {
     "name": "stdout",
     "output_type": "stream",
     "text": [
      "{'loss': 0.2527, 'grad_norm': 0.7377534508705139, 'learning_rate': 2.777777777777778e-05, 'epoch': 1.33}\n"
     ]
    },
    {
     "name": "stderr",
     "output_type": "stream",
     "text": [
      "                                          \n",
      "  0%|          | 0/1800 [1:13:20<?, ?it/s]        "
     ]
    },
    {
     "name": "stdout",
     "output_type": "stream",
     "text": [
      "{'loss': 0.2826, 'grad_norm': 0.7338771820068359, 'learning_rate': 2.7222222222222223e-05, 'epoch': 1.37}\n"
     ]
    },
    {
     "name": "stderr",
     "output_type": "stream",
     "text": [
      "                                          \n",
      "  0%|          | 0/1800 [1:13:23<?, ?it/s]        "
     ]
    },
    {
     "name": "stdout",
     "output_type": "stream",
     "text": [
      "{'loss': 0.2285, 'grad_norm': 2.5452699661254883, 'learning_rate': 2.6666666666666667e-05, 'epoch': 1.4}\n"
     ]
    },
    {
     "name": "stderr",
     "output_type": "stream",
     "text": [
      "                                          \n",
      "  0%|          | 0/1800 [1:13:26<?, ?it/s]        "
     ]
    },
    {
     "name": "stdout",
     "output_type": "stream",
     "text": [
      "{'loss': 0.3363, 'grad_norm': 2.344993829727173, 'learning_rate': 2.6111111111111114e-05, 'epoch': 1.43}\n"
     ]
    },
    {
     "name": "stderr",
     "output_type": "stream",
     "text": [
      "                                          \n",
      "  0%|          | 0/1800 [1:13:29<?, ?it/s]        "
     ]
    },
    {
     "name": "stdout",
     "output_type": "stream",
     "text": [
      "{'loss': 0.2637, 'grad_norm': 3.1476049423217773, 'learning_rate': 2.5555555555555554e-05, 'epoch': 1.47}\n"
     ]
    },
    {
     "name": "stderr",
     "output_type": "stream",
     "text": [
      "                                          \n",
      "  0%|          | 0/1800 [1:13:32<?, ?it/s]        "
     ]
    },
    {
     "name": "stdout",
     "output_type": "stream",
     "text": [
      "{'loss': 0.257, 'grad_norm': 1.822513222694397, 'learning_rate': 2.5e-05, 'epoch': 1.5}\n"
     ]
    },
    {
     "name": "stderr",
     "output_type": "stream",
     "text": [
      "                                          \n",
      "  0%|          | 0/1800 [1:13:35<?, ?it/s]        "
     ]
    },
    {
     "name": "stdout",
     "output_type": "stream",
     "text": [
      "{'loss': 0.3704, 'grad_norm': 2.3748817443847656, 'learning_rate': 2.4444444444444445e-05, 'epoch': 1.53}\n"
     ]
    },
    {
     "name": "stderr",
     "output_type": "stream",
     "text": [
      "                                          \n",
      "  0%|          | 0/1800 [1:13:39<?, ?it/s]        "
     ]
    },
    {
     "name": "stdout",
     "output_type": "stream",
     "text": [
      "{'loss': 0.3056, 'grad_norm': 0.24135497212409973, 'learning_rate': 2.3888888888888892e-05, 'epoch': 1.57}\n"
     ]
    },
    {
     "name": "stderr",
     "output_type": "stream",
     "text": [
      "                                          \n",
      "  0%|          | 0/1800 [1:13:42<?, ?it/s]        "
     ]
    },
    {
     "name": "stdout",
     "output_type": "stream",
     "text": [
      "{'loss': 0.3466, 'grad_norm': 1.430564522743225, 'learning_rate': 2.3333333333333336e-05, 'epoch': 1.6}\n"
     ]
    },
    {
     "name": "stderr",
     "output_type": "stream",
     "text": [
      "                                          \n",
      "  0%|          | 0/1800 [1:13:45<?, ?it/s]        "
     ]
    },
    {
     "name": "stdout",
     "output_type": "stream",
     "text": [
      "{'loss': 0.2762, 'grad_norm': 2.3766415119171143, 'learning_rate': 2.277777777777778e-05, 'epoch': 1.63}\n"
     ]
    },
    {
     "name": "stderr",
     "output_type": "stream",
     "text": [
      "                                          \n",
      "  0%|          | 0/1800 [1:13:48<?, ?it/s]         "
     ]
    },
    {
     "name": "stdout",
     "output_type": "stream",
     "text": [
      "{'loss': 0.307, 'grad_norm': 0.8499448895454407, 'learning_rate': 2.2222222222222223e-05, 'epoch': 1.67}\n"
     ]
    },
    {
     "name": "stderr",
     "output_type": "stream",
     "text": [
      "                                          \n",
      "  0%|          | 0/1800 [1:13:51<?, ?it/s]         "
     ]
    },
    {
     "name": "stdout",
     "output_type": "stream",
     "text": [
      "{'loss': 0.3297, 'grad_norm': 2.458246946334839, 'learning_rate': 2.1666666666666667e-05, 'epoch': 1.7}\n"
     ]
    },
    {
     "name": "stderr",
     "output_type": "stream",
     "text": [
      "                                          \n",
      "  0%|          | 0/1800 [1:13:54<?, ?it/s]         "
     ]
    },
    {
     "name": "stdout",
     "output_type": "stream",
     "text": [
      "{'loss': 0.2494, 'grad_norm': 1.1829317808151245, 'learning_rate': 2.111111111111111e-05, 'epoch': 1.73}\n"
     ]
    },
    {
     "name": "stderr",
     "output_type": "stream",
     "text": [
      "                                          \n",
      "  0%|          | 0/1800 [1:13:57<?, ?it/s]         "
     ]
    },
    {
     "name": "stdout",
     "output_type": "stream",
     "text": [
      "{'loss': 0.2229, 'grad_norm': 2.5368263721466064, 'learning_rate': 2.0555555555555555e-05, 'epoch': 1.77}\n"
     ]
    },
    {
     "name": "stderr",
     "output_type": "stream",
     "text": [
      "                                          \n",
      "  0%|          | 0/1800 [1:14:00<?, ?it/s]         "
     ]
    },
    {
     "name": "stdout",
     "output_type": "stream",
     "text": [
      "{'loss': 0.2258, 'grad_norm': 3.535865068435669, 'learning_rate': 2e-05, 'epoch': 1.8}\n"
     ]
    },
    {
     "name": "stderr",
     "output_type": "stream",
     "text": [
      "                                          \n",
      "  0%|          | 0/1800 [1:14:03<?, ?it/s]         "
     ]
    },
    {
     "name": "stdout",
     "output_type": "stream",
     "text": [
      "{'loss': 0.2283, 'grad_norm': 2.8709774017333984, 'learning_rate': 1.9444444444444445e-05, 'epoch': 1.83}\n"
     ]
    },
    {
     "name": "stderr",
     "output_type": "stream",
     "text": [
      "                                          \n",
      "  0%|          | 0/1800 [1:14:06<?, ?it/s]         "
     ]
    },
    {
     "name": "stdout",
     "output_type": "stream",
     "text": [
      "{'loss': 0.251, 'grad_norm': 1.6810519695281982, 'learning_rate': 1.888888888888889e-05, 'epoch': 1.87}\n"
     ]
    },
    {
     "name": "stderr",
     "output_type": "stream",
     "text": [
      "                                          \n",
      "  0%|          | 0/1800 [1:14:09<?, ?it/s]         "
     ]
    },
    {
     "name": "stdout",
     "output_type": "stream",
     "text": [
      "{'loss': 0.373, 'grad_norm': 2.6589627265930176, 'learning_rate': 1.8333333333333333e-05, 'epoch': 1.9}\n"
     ]
    },
    {
     "name": "stderr",
     "output_type": "stream",
     "text": [
      "                                          \n",
      "  0%|          | 0/1800 [1:14:13<?, ?it/s]         "
     ]
    },
    {
     "name": "stdout",
     "output_type": "stream",
     "text": [
      "{'loss': 0.4067, 'grad_norm': 3.4513068199157715, 'learning_rate': 1.777777777777778e-05, 'epoch': 1.93}\n"
     ]
    },
    {
     "name": "stderr",
     "output_type": "stream",
     "text": [
      "                                          \n",
      "  0%|          | 0/1800 [1:14:16<?, ?it/s]         "
     ]
    },
    {
     "name": "stdout",
     "output_type": "stream",
     "text": [
      "{'loss': 0.2831, 'grad_norm': 1.2790191173553467, 'learning_rate': 1.7222222222222224e-05, 'epoch': 1.97}\n"
     ]
    },
    {
     "name": "stderr",
     "output_type": "stream",
     "text": [
      "                                          \n",
      "  0%|          | 0/1800 [1:14:19<?, ?it/s]         "
     ]
    },
    {
     "name": "stdout",
     "output_type": "stream",
     "text": [
      "{'loss': 0.3432, 'grad_norm': 2.2500452995300293, 'learning_rate': 1.6666666666666667e-05, 'epoch': 2.0}\n"
     ]
    },
    {
     "name": "stderr",
     "output_type": "stream",
     "text": [
      "                                          \n",
      "  0%|          | 0/1800 [1:14:22<?, ?it/s]         "
     ]
    },
    {
     "name": "stdout",
     "output_type": "stream",
     "text": [
      "{'loss': 0.2235, 'grad_norm': 2.565793037414551, 'learning_rate': 1.6111111111111115e-05, 'epoch': 2.03}\n"
     ]
    },
    {
     "name": "stderr",
     "output_type": "stream",
     "text": [
      "                                          \n",
      "  0%|          | 0/1800 [1:14:25<?, ?it/s]         "
     ]
    },
    {
     "name": "stdout",
     "output_type": "stream",
     "text": [
      "{'loss': 0.2616, 'grad_norm': 2.1914546489715576, 'learning_rate': 1.5555555555555555e-05, 'epoch': 2.07}\n"
     ]
    },
    {
     "name": "stderr",
     "output_type": "stream",
     "text": [
      "                                          \n",
      "  0%|          | 0/1800 [1:14:28<?, ?it/s]         "
     ]
    },
    {
     "name": "stdout",
     "output_type": "stream",
     "text": [
      "{'loss': 0.3611, 'grad_norm': 4.0931549072265625, 'learning_rate': 1.5e-05, 'epoch': 2.1}\n"
     ]
    },
    {
     "name": "stderr",
     "output_type": "stream",
     "text": [
      "                                          \n",
      "  0%|          | 0/1800 [1:14:31<?, ?it/s]         "
     ]
    },
    {
     "name": "stdout",
     "output_type": "stream",
     "text": [
      "{'loss': 0.2659, 'grad_norm': 1.1863476037979126, 'learning_rate': 1.4444444444444444e-05, 'epoch': 2.13}\n"
     ]
    },
    {
     "name": "stderr",
     "output_type": "stream",
     "text": [
      "                                          \n",
      "  0%|          | 0/1800 [1:14:34<?, ?it/s]         "
     ]
    },
    {
     "name": "stdout",
     "output_type": "stream",
     "text": [
      "{'loss': 0.292, 'grad_norm': 0.6841511726379395, 'learning_rate': 1.388888888888889e-05, 'epoch': 2.17}\n"
     ]
    },
    {
     "name": "stderr",
     "output_type": "stream",
     "text": [
      "                                          \n",
      "  0%|          | 0/1800 [1:14:37<?, ?it/s]         "
     ]
    },
    {
     "name": "stdout",
     "output_type": "stream",
     "text": [
      "{'loss': 0.2304, 'grad_norm': 1.93889582157135, 'learning_rate': 1.3333333333333333e-05, 'epoch': 2.2}\n"
     ]
    },
    {
     "name": "stderr",
     "output_type": "stream",
     "text": [
      "                                          \n",
      "  0%|          | 0/1800 [1:14:41<?, ?it/s]         "
     ]
    },
    {
     "name": "stdout",
     "output_type": "stream",
     "text": [
      "{'loss': 0.3008, 'grad_norm': 0.7824988961219788, 'learning_rate': 1.2777777777777777e-05, 'epoch': 2.23}\n"
     ]
    },
    {
     "name": "stderr",
     "output_type": "stream",
     "text": [
      "                                          \n",
      "  0%|          | 0/1800 [1:14:44<?, ?it/s]         "
     ]
    },
    {
     "name": "stdout",
     "output_type": "stream",
     "text": [
      "{'loss': 0.3852, 'grad_norm': 2.7969367504119873, 'learning_rate': 1.2222222222222222e-05, 'epoch': 2.27}\n"
     ]
    },
    {
     "name": "stderr",
     "output_type": "stream",
     "text": [
      "                                          \n",
      "  0%|          | 0/1800 [1:14:47<?, ?it/s]         "
     ]
    },
    {
     "name": "stdout",
     "output_type": "stream",
     "text": [
      "{'loss': 0.3332, 'grad_norm': 2.5619733333587646, 'learning_rate': 1.1666666666666668e-05, 'epoch': 2.3}\n"
     ]
    },
    {
     "name": "stderr",
     "output_type": "stream",
     "text": [
      "                                          \n",
      "  0%|          | 0/1800 [1:14:50<?, ?it/s]         "
     ]
    },
    {
     "name": "stdout",
     "output_type": "stream",
     "text": [
      "{'loss': 0.3169, 'grad_norm': 0.7121013402938843, 'learning_rate': 1.1111111111111112e-05, 'epoch': 2.33}\n"
     ]
    },
    {
     "name": "stderr",
     "output_type": "stream",
     "text": [
      "                                          \n",
      "  0%|          | 0/1800 [1:14:53<?, ?it/s]         "
     ]
    },
    {
     "name": "stdout",
     "output_type": "stream",
     "text": [
      "{'loss': 0.1813, 'grad_norm': 3.6464951038360596, 'learning_rate': 1.0555555555555555e-05, 'epoch': 2.37}\n"
     ]
    },
    {
     "name": "stderr",
     "output_type": "stream",
     "text": [
      "                                          \n",
      "  0%|          | 0/1800 [1:14:56<?, ?it/s]         "
     ]
    },
    {
     "name": "stdout",
     "output_type": "stream",
     "text": [
      "{'loss': 0.2352, 'grad_norm': 3.1042394638061523, 'learning_rate': 1e-05, 'epoch': 2.4}\n"
     ]
    },
    {
     "name": "stderr",
     "output_type": "stream",
     "text": [
      "                                          \n",
      "  0%|          | 0/1800 [1:14:59<?, ?it/s]         "
     ]
    },
    {
     "name": "stdout",
     "output_type": "stream",
     "text": [
      "{'loss': 0.2262, 'grad_norm': 1.1953587532043457, 'learning_rate': 9.444444444444445e-06, 'epoch': 2.43}\n"
     ]
    },
    {
     "name": "stderr",
     "output_type": "stream",
     "text": [
      "                                          \n",
      "  0%|          | 0/1800 [1:15:02<?, ?it/s]         "
     ]
    },
    {
     "name": "stdout",
     "output_type": "stream",
     "text": [
      "{'loss': 0.2988, 'grad_norm': 1.5102518796920776, 'learning_rate': 8.88888888888889e-06, 'epoch': 2.47}\n"
     ]
    },
    {
     "name": "stderr",
     "output_type": "stream",
     "text": [
      "                                          \n",
      "  0%|          | 0/1800 [1:15:05<?, ?it/s]         "
     ]
    },
    {
     "name": "stdout",
     "output_type": "stream",
     "text": [
      "{'loss': 0.2187, 'grad_norm': 1.8998898267745972, 'learning_rate': 8.333333333333334e-06, 'epoch': 2.5}\n"
     ]
    },
    {
     "name": "stderr",
     "output_type": "stream",
     "text": [
      "                                          \n",
      "  0%|          | 0/1800 [1:15:09<?, ?it/s]         "
     ]
    },
    {
     "name": "stdout",
     "output_type": "stream",
     "text": [
      "{'loss': 0.2709, 'grad_norm': 0.733085036277771, 'learning_rate': 7.777777777777777e-06, 'epoch': 2.53}\n"
     ]
    },
    {
     "name": "stderr",
     "output_type": "stream",
     "text": [
      "                                          \n",
      "  0%|          | 0/1800 [1:15:12<?, ?it/s]         "
     ]
    },
    {
     "name": "stdout",
     "output_type": "stream",
     "text": [
      "{'loss': 0.3576, 'grad_norm': 1.7900973558425903, 'learning_rate': 7.222222222222222e-06, 'epoch': 2.57}\n"
     ]
    },
    {
     "name": "stderr",
     "output_type": "stream",
     "text": [
      "                                          \n",
      "  0%|          | 0/1800 [1:15:15<?, ?it/s]         "
     ]
    },
    {
     "name": "stdout",
     "output_type": "stream",
     "text": [
      "{'loss': 0.2807, 'grad_norm': 0.5470614433288574, 'learning_rate': 6.666666666666667e-06, 'epoch': 2.6}\n"
     ]
    },
    {
     "name": "stderr",
     "output_type": "stream",
     "text": [
      "                                          \n",
      "  0%|          | 0/1800 [1:15:18<?, ?it/s]         "
     ]
    },
    {
     "name": "stdout",
     "output_type": "stream",
     "text": [
      "{'loss': 0.2501, 'grad_norm': 2.766784191131592, 'learning_rate': 6.111111111111111e-06, 'epoch': 2.63}\n"
     ]
    },
    {
     "name": "stderr",
     "output_type": "stream",
     "text": [
      "                                          \n",
      "  0%|          | 0/1800 [1:15:21<?, ?it/s]         "
     ]
    },
    {
     "name": "stdout",
     "output_type": "stream",
     "text": [
      "{'loss': 0.2091, 'grad_norm': 3.2428743839263916, 'learning_rate': 5.555555555555556e-06, 'epoch': 2.67}\n"
     ]
    },
    {
     "name": "stderr",
     "output_type": "stream",
     "text": [
      "                                          \n",
      "  0%|          | 0/1800 [1:15:25<?, ?it/s]         "
     ]
    },
    {
     "name": "stdout",
     "output_type": "stream",
     "text": [
      "{'loss': 0.3037, 'grad_norm': 2.850572109222412, 'learning_rate': 5e-06, 'epoch': 2.7}\n"
     ]
    },
    {
     "name": "stderr",
     "output_type": "stream",
     "text": [
      "                                          \n",
      "  0%|          | 0/1800 [1:15:28<?, ?it/s]         "
     ]
    },
    {
     "name": "stdout",
     "output_type": "stream",
     "text": [
      "{'loss': 0.2425, 'grad_norm': 3.034806728363037, 'learning_rate': 4.444444444444445e-06, 'epoch': 2.73}\n"
     ]
    },
    {
     "name": "stderr",
     "output_type": "stream",
     "text": [
      "                                          \n",
      "  0%|          | 0/1800 [1:15:31<?, ?it/s]         "
     ]
    },
    {
     "name": "stdout",
     "output_type": "stream",
     "text": [
      "{'loss': 0.2905, 'grad_norm': 3.551213026046753, 'learning_rate': 3.888888888888889e-06, 'epoch': 2.77}\n"
     ]
    },
    {
     "name": "stderr",
     "output_type": "stream",
     "text": [
      "                                          \n",
      "  0%|          | 0/1800 [1:15:34<?, ?it/s]         "
     ]
    },
    {
     "name": "stdout",
     "output_type": "stream",
     "text": [
      "{'loss': 0.1778, 'grad_norm': 0.8413496017456055, 'learning_rate': 3.3333333333333333e-06, 'epoch': 2.8}\n"
     ]
    },
    {
     "name": "stderr",
     "output_type": "stream",
     "text": [
      "                                          \n",
      "  0%|          | 0/1800 [1:15:37<?, ?it/s]         "
     ]
    },
    {
     "name": "stdout",
     "output_type": "stream",
     "text": [
      "{'loss': 0.2177, 'grad_norm': 1.9605001211166382, 'learning_rate': 2.777777777777778e-06, 'epoch': 2.83}\n"
     ]
    },
    {
     "name": "stderr",
     "output_type": "stream",
     "text": [
      "                                          \n",
      "  0%|          | 0/1800 [1:15:40<?, ?it/s]         "
     ]
    },
    {
     "name": "stdout",
     "output_type": "stream",
     "text": [
      "{'loss': 0.2502, 'grad_norm': 0.18354322016239166, 'learning_rate': 2.2222222222222225e-06, 'epoch': 2.87}\n"
     ]
    },
    {
     "name": "stderr",
     "output_type": "stream",
     "text": [
      "                                          \n",
      "  0%|          | 0/1800 [1:15:43<?, ?it/s]         "
     ]
    },
    {
     "name": "stdout",
     "output_type": "stream",
     "text": [
      "{'loss': 0.2785, 'grad_norm': 3.6984026432037354, 'learning_rate': 1.6666666666666667e-06, 'epoch': 2.9}\n"
     ]
    },
    {
     "name": "stderr",
     "output_type": "stream",
     "text": [
      "                                          \n",
      "  0%|          | 0/1800 [1:15:46<?, ?it/s]         "
     ]
    },
    {
     "name": "stdout",
     "output_type": "stream",
     "text": [
      "{'loss': 0.233, 'grad_norm': 3.816973924636841, 'learning_rate': 1.1111111111111112e-06, 'epoch': 2.93}\n"
     ]
    },
    {
     "name": "stderr",
     "output_type": "stream",
     "text": [
      "                                          \n",
      "  0%|          | 0/1800 [1:15:49<?, ?it/s]         "
     ]
    },
    {
     "name": "stdout",
     "output_type": "stream",
     "text": [
      "{'loss': 0.2505, 'grad_norm': 2.391418695449829, 'learning_rate': 5.555555555555556e-07, 'epoch': 2.97}\n"
     ]
    },
    {
     "name": "stderr",
     "output_type": "stream",
     "text": [
      "                                          \n",
      "  0%|          | 0/1800 [1:15:52<?, ?it/s]         "
     ]
    },
    {
     "name": "stdout",
     "output_type": "stream",
     "text": [
      "{'loss': 0.2658, 'grad_norm': 0.6648826003074646, 'learning_rate': 0.0, 'epoch': 3.0}\n"
     ]
    },
    {
     "name": "stderr",
     "output_type": "stream",
     "text": [
      "                                          \n",
      "100%|██████████| 1800/1800 [04:42<00:00,  6.38it/s]\n"
     ]
    },
    {
     "name": "stdout",
     "output_type": "stream",
     "text": [
      "{'train_runtime': 282.3412, 'train_samples_per_second': 101.983, 'train_steps_per_second': 6.375, 'train_loss': 0.31293446328904895, 'epoch': 3.0}\n",
      "LoRA fine-tuning complete. Model saved.\n"
     ]
    }
   ],
   "source": [
    "from datasets import load_dataset\n",
    "from transformers import AutoModel, AutoTokenizer, TrainingArguments, Trainer\n",
    "from peft import get_peft_model, LoraConfig, TaskType\n",
    "import torch\n",
    "from torch.utils.data import Dataset\n",
    "import torch.nn.functional as F\n",
    "\n",
    "# ✅ Set device (MPS if available)\n",
    "device = torch.device(\"mps\" if torch.backends.mps.is_available() else \"cuda\" if torch.cuda.is_available() else \"cpu\")\n",
    "print(f\"✅ Using device: {device}\")\n",
    "\n",
    "# 1. Load dataset (RAG-style question-context pairs)\n",
    "dataset = load_dataset(\"neural-bridge/rag-dataset-12000\", split=\"train\")\n",
    "pairs = [(q, c) for q, c in zip(dataset[\"question\"], dataset[\"context\"]) if isinstance(q, str) and q.strip() and isinstance(c, str) and c.strip()]\n",
    "\n",
    "# 2. Tokenizer + model\n",
    "model_name = \"sentence-transformers/all-MiniLM-L6-v2\"\n",
    "tokenizer = AutoTokenizer.from_pretrained(model_name)\n",
    "base_model = AutoModel.from_pretrained(model_name).to(device)\n",
    "\n",
    "# 3. Apply LoRA\n",
    "lora_config = LoraConfig(\n",
    "    task_type=TaskType.FEATURE_EXTRACTION,\n",
    "    r=8,\n",
    "    lora_alpha=16,\n",
    "    lora_dropout=0.1,\n",
    "    bias=\"none\"\n",
    ")\n",
    "model = get_peft_model(base_model, lora_config)\n",
    "model.to(device)\n",
    "model.print_trainable_parameters()\n",
    "\n",
    "# 4. Prepare dataset class\n",
    "class RagPairDataset(Dataset):\n",
    "    def __init__(self, pairs):\n",
    "        self.pairs = pairs\n",
    "\n",
    "    def __len__(self):\n",
    "        return len(self.pairs)\n",
    "\n",
    "    def __getitem__(self, idx):\n",
    "        q, c = self.pairs[idx]\n",
    "        q_tok = tokenizer(q, truncation=True, padding=\"max_length\", max_length=128, return_tensors=\"pt\")\n",
    "        c_tok = tokenizer(c, truncation=True, padding=\"max_length\", max_length=128, return_tensors=\"pt\")\n",
    "        return {\n",
    "            \"query_input_ids\": q_tok[\"input_ids\"].squeeze(0),\n",
    "            \"query_attention_mask\": q_tok[\"attention_mask\"].squeeze(0),\n",
    "            \"ctx_input_ids\": c_tok[\"input_ids\"].squeeze(0),\n",
    "            \"ctx_attention_mask\": c_tok[\"attention_mask\"].squeeze(0)\n",
    "        }\n",
    "\n",
    "train_dataset = RagPairDataset(pairs)\n",
    "\n",
    "# 5. Contrastive loss (MultipleNegativesRankingLoss style)\n",
    "def collate_fn(batch):\n",
    "    q_ids = torch.stack([b[\"query_input_ids\"] for b in batch])\n",
    "    q_mask = torch.stack([b[\"query_attention_mask\"] for b in batch])\n",
    "    c_ids = torch.stack([b[\"ctx_input_ids\"] for b in batch])\n",
    "    c_mask = torch.stack([b[\"ctx_attention_mask\"] for b in batch])\n",
    "    return {\"q_ids\": q_ids.to(device), \"q_mask\": q_mask.to(device), \"c_ids\": c_ids.to(device), \"c_mask\": c_mask.to(device)}\n",
    "\n",
    "# 6. Trainer wrapper\n",
    "class LoRARetriever(torch.nn.Module):\n",
    "    def __init__(self, base):\n",
    "        super().__init__()\n",
    "        self.model = base\n",
    "\n",
    "    def forward(self, q_ids, q_mask, c_ids, c_mask):\n",
    "        q_emb = self.model(input_ids=q_ids, attention_mask=q_mask).last_hidden_state[:, 0]  # [CLS]\n",
    "        c_emb = self.model(input_ids=c_ids, attention_mask=c_mask).last_hidden_state[:, 0]\n",
    "        scores = torch.matmul(q_emb, c_emb.T)\n",
    "        labels = torch.arange(q_emb.size(0)).to(q_emb.device)\n",
    "        loss = F.cross_entropy(scores, labels)\n",
    "        return {\"loss\": loss}\n",
    "\n",
    "lora_wrapper = LoRARetriever(model).to(device)\n",
    "\n",
    "# 7. TrainingArguments\n",
    "args = TrainingArguments(\n",
    "    output_dir=\"lora_finetune_retriever\",\n",
    "    per_device_train_batch_size=16,\n",
    "    learning_rate=5e-5,\n",
    "    num_train_epochs=3,\n",
    "    logging_steps=20,\n",
    "    save_strategy=\"epoch\",\n",
    "    remove_unused_columns=False\n",
    ")\n",
    "\n",
    "# 8. HuggingFace Trainer\n",
    "trainer = Trainer(\n",
    "    model=lora_wrapper,\n",
    "    args=args,\n",
    "    train_dataset=train_dataset,\n",
    "    tokenizer=tokenizer,\n",
    "    data_collator=collate_fn\n",
    ")\n",
    "\n",
    "# 9. Train\n",
    "trainer.train()\n",
    "\n",
    "# 10. Save\n",
    "model.save_pretrained(\"lora_finetune_retriever\")\n",
    "tokenizer.save_pretrained(\"lora_finetune_retriever\")\n",
    "\n",
    "print(\"LoRA fine-tuning complete. Model saved.\")\n"
   ]
  }
 ],
 "metadata": {
  "kernelspec": {
   "display_name": "Python 3",
   "language": "python",
   "name": "python3"
  },
  "language_info": {
   "codemirror_mode": {
    "name": "ipython",
    "version": 3
   },
   "file_extension": ".py",
   "mimetype": "text/x-python",
   "name": "python",
   "nbconvert_exporter": "python",
   "pygments_lexer": "ipython3",
   "version": "3.10.13"
  },
  "orig_nbformat": 4
 },
 "nbformat": 4,
 "nbformat_minor": 2
}
