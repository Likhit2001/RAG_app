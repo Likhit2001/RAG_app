{
 "cells": [
  {
   "cell_type": "code",
   "execution_count": 1,
   "metadata": {},
   "outputs": [
    {
     "name": "stderr",
     "output_type": "stream",
     "text": [
      "/Users/likhit/Documents/Coding/NLP/NLP_basics/nlp/lib/python3.10/site-packages/tqdm/auto.py:21: TqdmWarning: IProgress not found. Please update jupyter and ipywidgets. See https://ipywidgets.readthedocs.io/en/stable/user_install.html\n",
      "  from .autonotebook import tqdm as notebook_tqdm\n"
     ]
    }
   ],
   "source": [
    "# from transformers import AutoModelWithHeads, AutoTokenizer\n",
    "import faiss\n",
    "import pandas as pd\n",
    "import torch\n",
    "from sentence_transformers import SentenceTransformer\n",
    "import numpy as np"
   ]
  },
  {
   "cell_type": "code",
   "execution_count": 2,
   "metadata": {},
   "outputs": [
    {
     "data": {
      "text/plain": [
       "SentenceTransformer(\n",
       "  (0): Transformer({'max_seq_length': 512, 'do_lower_case': False}) with Transformer model: BertModel \n",
       "  (1): Pooling({'word_embedding_dimension': 384, 'pooling_mode_cls_token': False, 'pooling_mode_mean_tokens': True, 'pooling_mode_max_tokens': False, 'pooling_mode_mean_sqrt_len_tokens': False, 'pooling_mode_weightedmean_tokens': False, 'pooling_mode_lasttoken': False, 'include_prompt': True})\n",
       ")"
      ]
     },
     "execution_count": 2,
     "metadata": {},
     "output_type": "execute_result"
    }
   ],
   "source": [
    "device = torch.device(\"mps\" if torch.backends.mps.is_available() else \"cpu\")\n",
    "\n",
    "model = SentenceTransformer(\"/Users/likhit/Desktop/Projects/RAG/1fineeeeminilm_proj512_only_dense\")\n",
    "\n",
    "\n",
    "# Load FAISS index + mapping\n",
    "index = faiss.read_index(\"/Users/likhit/Desktop/Projects/RAG/model/retriever/testmodel/chunks_test_faiss_store/context_index.faiss\")\n",
    "context_df = pd.read_csv(\"/Users/likhit/Desktop/Projects/RAG/model/retriever/testmodel/chunks_test_faiss_store/context_mapping.csv\")\n",
    "\n",
    "model.eval()\n",
    "model.to(device)"
   ]
  },
  {
   "cell_type": "code",
   "execution_count": 3,
   "metadata": {},
   "outputs": [],
   "source": [
    "def retrieve_top_k_contexts(question, k=5):\n",
    "    query_vec = model.encode([question], convert_to_numpy=True)\n",
    "    query_vec = np.expand_dims(query_vec, axis=0) if query_vec.ndim == 1 else query_vec\n",
    "\n",
    "    _, indices = index.search(query_vec, k)\n",
    "    \n",
    "    retrieved_contexts = [context_df.iloc[i][\"chunk\"] for i in indices[0]]\n",
    "    return retrieved_contexts"
   ]
  },
  {
   "cell_type": "code",
   "execution_count": 4,
   "metadata": {},
   "outputs": [],
   "source": [
    "def build_prompt(question, contexts):\n",
    "    prompt = f\"Answer the following question using complete sentences based only on the given context.\\n\"\n",
    "    prompt += \"\\n\".join(contexts)\n",
    "    prompt += f\"\\n\\nQuestion: {question}\\nAnswer:\"\n",
    "    return prompt"
   ]
  },
  {
   "cell_type": "code",
   "execution_count": 5,
   "metadata": {},
   "outputs": [
    {
     "name": "stderr",
     "output_type": "stream",
     "text": [
      "You are using the default legacy behaviour of the <class 'transformers.models.t5.tokenization_t5.T5Tokenizer'>. This is expected, and simply means that the `legacy` (previous) behavior will be used so nothing changes for you. If you want to use the new behaviour, set `legacy=False`. This should only be set if you understand what it means, and thoroughly read the reason why this was added as explained in https://github.com/huggingface/transformers/pull/24565\n"
     ]
    }
   ],
   "source": [
    "from transformers import T5Tokenizer, T5ForConditionalGeneration\n",
    "\n",
    "tokenizer = T5Tokenizer.from_pretrained(\"google/flan-t5-base\")\n",
    "model2 = T5ForConditionalGeneration.from_pretrained(\"google/flan-t5-base\").to(device)\n",
    "\n",
    "def generate_answer(prompt):\n",
    "    inputs = tokenizer(prompt, return_tensors=\"pt\", max_length=512, truncation=True).to(device)\n",
    "    outputs = model2.generate(**inputs, max_length=512)\n",
    "    return tokenizer.decode(outputs[0], skip_special_tokens=True)"
   ]
  },
  {
   "cell_type": "code",
   "execution_count": 6,
   "metadata": {},
   "outputs": [
    {
     "name": "stdout",
     "output_type": "stream",
     "text": [
      "Question: Who is the music director of the Quebec Symphony Orchestra?\n",
      "\n",
      "Prompt:\n",
      " Answer the following question using complete sentences based only on the given context.\n",
      "Daphnis and Chloé About Fabiel Gabel Français des Jeunes (French Youth Orchestra). Following. G. His rapidly-expanding U.S. presence has seen him leading the Cleveland Orchestra, Houston Symphony Orchestra, Detroit Symphony Orchestra, San Diego Symphony Orchestra and more. Fabré Hamelin, Beatrice\n",
      "into \"Fidelio.\")\" Beethoven; likewise, a delicate chorale for winds; and the entwining of solo voices, chorus and instrumental forces, all commandingly marshaled by Tilson Thomas, making for a vast and expressive emotional matrix. The San Francisco Symphony Chorus, directed by Ragnar Bohlin, gripped\n",
      "HOUSTON (Jan. 23, 2018) – Fabien Gabel, music director of the Quebec Symphony Orchestra, returns to Houston to lead the Houston Symphony in Ravel’s Daphnis and Chloé on Feb. 2 and 3 at 8 p.m. and Feb. 4 at 2:30 p.m. in Jones Hall. Recognized internationally as one of the stars of the new generation,\n",
      "MusicWeb International \"His handling of a full symphony orchestra is exceptionally assured and effective. The opening of the symphony features an instantly memorable yet naive tune using tuned percussion and harp to suggest a musicbox in a disarmingly charming way. But this is not ‘just’ an\n",
      "Incantations with the Helsinki Philharmonic and John Storgårds (Ondine) won a 2012 Gramophone Award, and his recording of Jennifer Higdon’s Percussion Concerto with the London Philharmonic and Marin Alsop won a 2010 Grammy Award. Colin Currie plays Zildjan cymbals and is a MarimbaOne Artist. To\n",
      "\n",
      "Question: Who is the music director of the Quebec Symphony Orchestra?\n",
      "Answer:\n",
      "\\Answer: Fabien Gabel\n"
     ]
    }
   ],
   "source": [
    "question = \"Who is the music director of the Quebec Symphony Orchestra?\"\n",
    "contexts = retrieve_top_k_contexts(question, k=5)\n",
    "prompt = build_prompt(question, contexts)\n",
    "answer = generate_answer(prompt)\n",
    "\n",
    "print(\"Question:\", question)\n",
    "print(\"\\nPrompt:\\n\", prompt)\n",
    "print(\"\\Answer:\", answer)"
   ]
  }
 ],
 "metadata": {
  "kernelspec": {
   "display_name": "Python 3",
   "language": "python",
   "name": "python3"
  },
  "language_info": {
   "codemirror_mode": {
    "name": "ipython",
    "version": 3
   },
   "file_extension": ".py",
   "mimetype": "text/x-python",
   "name": "python",
   "nbconvert_exporter": "python",
   "pygments_lexer": "ipython3",
   "version": "3.10.13"
  },
  "orig_nbformat": 4
 },
 "nbformat": 4,
 "nbformat_minor": 2
}
