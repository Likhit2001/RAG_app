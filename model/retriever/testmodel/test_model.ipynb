{
 "cells": [
  {
   "cell_type": "markdown",
   "metadata": {},
   "source": [
    "<!-- Sentence Transformer performance -->"
   ]
  },
  {
   "cell_type": "code",
   "execution_count": 2,
   "metadata": {},
   "outputs": [],
   "source": [
    "from datasets import load_dataset\n",
    "from sentence_transformers import SentenceTransformer\n",
    "import torch\n",
    "import numpy as np\n",
    "import pandas as pd\n",
    "import faiss\n",
    "import os\n",
    "from tqdm import tqdm\n",
    "\n",
    "# Load test data\n",
    "test_data = load_dataset(\"neural-bridge/rag-dataset-12000\", split=\"test\")\n",
    "test_contexts = test_data[\"context\"]\n",
    "\n",
    "# Load pretrained sentence transformer\n",
    "model = SentenceTransformer(\"sentence-transformers/all-MiniLM-L6-v2\")\n",
    "\n",
    "# Create storage directory\n",
    "os.makedirs(\"test_faiss_store\", exist_ok=True)\n",
    "\n",
    "# Encode all test contexts\n",
    "context_embeddings = []\n",
    "batch_size = 32\n",
    "\n",
    "print(\"Encoding contexts...\")\n",
    "for i in tqdm(range(0, len(test_contexts), batch_size)):\n",
    "    batch = test_contexts[i:i+batch_size]\n",
    "    emb = model.encode(batch, convert_to_numpy=True, show_progress_bar=False)\n",
    "    context_embeddings.append(emb)\n",
    "\n",
    "context_embeddings = np.vstack(context_embeddings)\n",
    "\n",
    "# Save FAISS index\n",
    "dimension = context_embeddings.shape[1]\n",
    "index = faiss.IndexFlatL2(dimension)\n",
    "index.add(context_embeddings)\n",
    "faiss.write_index(index, \"test_faiss_store/context_index.faiss\")\n",
    "\n",
    "# Save mapping to retrieve text later\n",
    "pd.DataFrame({\"context\": test_contexts}).to_csv(\"test_faiss_store/context_mapping.csv\", index=False)\n",
    "\n",
    "print(\"✅ FAISS index and context mapping saved to 'test_faiss_store/'\")"
   ]
  },
  {
   "cell_type": "code",
   "execution_count": 4,
   "metadata": {},
   "outputs": [
    {
     "name": "stderr",
     "output_type": "stream",
     "text": [
      "100%|██████████| 2399/2399 [00:27<00:00, 86.17it/s]"
     ]
    },
    {
     "name": "stdout",
     "output_type": "stream",
     "text": [
      "{'Precision@5': 0.1801, 'Recall@5': 0.9004, 'Accuracy@5': 0.9004}\n"
     ]
    },
    {
     "name": "stderr",
     "output_type": "stream",
     "text": [
      "\n"
     ]
    }
   ],
   "source": [
    "from datasets import load_dataset\n",
    "from sentence_transformers import SentenceTransformer\n",
    "import pandas as pd\n",
    "import faiss\n",
    "import numpy as np\n",
    "import torch\n",
    "from tqdm import tqdm\n",
    "\n",
    "# Load model and device\n",
    "model = SentenceTransformer(\"sentence-transformers/all-MiniLM-L6-v2\")\n",
    "device = torch.device(\"cuda\" if torch.cuda.is_available() else \"mps\" if torch.backends.mps.is_available() else \"cpu\")\n",
    "\n",
    "# Load test data\n",
    "test_data = load_dataset(\"neural-bridge/rag-dataset-12000\", split=\"test\")\n",
    "\n",
    "filtered_pairs = [(q, c) for q, c in zip(test_data[\"question\"], test_data[\"context\"]) if q and c]\n",
    "test_questions, test_contexts = zip(*filtered_pairs)\n",
    "\n",
    "# Load FAISS index + mapping (built using test_contexts)\n",
    "index = faiss.read_index(\"test_faiss_store/context_index.faiss\")\n",
    "context_df = pd.read_csv(\"test_faiss_store/context_mapping.csv\")\n",
    "\n",
    "# Evaluation\n",
    "def compute_metrics(model, k=3):\n",
    "    correct = 0\n",
    "    precision_scores = []\n",
    "    recall_scores = []\n",
    "    total = len(test_questions)\n",
    "\n",
    "    for q, true_ctx in tqdm(zip(test_questions, test_contexts), total=total):\n",
    "        # Get query embedding\n",
    "        query_vec = model.encode(q, convert_to_numpy=True)\n",
    "        query_vec = np.expand_dims(query_vec, axis=0)\n",
    "\n",
    "        # Search FAISS\n",
    "        _, indices = index.search(query_vec, k)\n",
    "        retrieved = [context_df.iloc[i][\"context\"] for i in indices[0]]\n",
    "\n",
    "        # Binary relevance\n",
    "        match = [1 if r.strip() == true_ctx.strip() else 0 for r in retrieved]\n",
    "\n",
    "        precision = sum(match) / k\n",
    "        recall = 1.0 if any(match) else 0.0\n",
    "        accuracy = 1 if any(match) else 0\n",
    "\n",
    "        precision_scores.append(precision)\n",
    "        recall_scores.append(recall)\n",
    "        correct += accuracy\n",
    "\n",
    "    return {\n",
    "        f\"Precision@{k}\": round(np.mean(precision_scores), 4),\n",
    "        f\"Recall@{k}\": round(np.mean(recall_scores), 4),\n",
    "        f\"Accuracy@{k}\": round(correct / total, 4)\n",
    "    }\n",
    "\n",
    "# Run evaluation\n",
    "metrics = compute_metrics(model, k=5)\n",
    "print(metrics)"
   ]
  }
 ],
 "metadata": {
  "kernelspec": {
   "display_name": "Python 3",
   "language": "python",
   "name": "python3"
  },
  "language_info": {
   "codemirror_mode": {
    "name": "ipython",
    "version": 3
   },
   "file_extension": ".py",
   "mimetype": "text/x-python",
   "name": "python",
   "nbconvert_exporter": "python",
   "pygments_lexer": "ipython3",
   "version": "3.10.13"
  },
  "orig_nbformat": 4
 },
 "nbformat": 4,
 "nbformat_minor": 2
}
